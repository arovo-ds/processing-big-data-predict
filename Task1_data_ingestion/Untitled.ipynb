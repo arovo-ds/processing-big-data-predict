{
 "cells": [
  {
   "cell_type": "code",
   "execution_count": null,
   "id": "456893c3",
   "metadata": {},
   "outputs": [],
   "source": [
    "# Count the number of null values before conversion\n",
    "null_counts_before = data.select([F.col(c).isNull().cast(\"int\").alias(c) for c in data.columns]).agg(*[F.sum(c).alias(c) for c in data.columns]).collect()\n",
    "\n",
    "# Convert the count to a dictionary for easier access\n",
    "null_counts_before_dict = null_counts_before[0].asDict()\n",
    "\n",
    "# Print the count of null values before conversion\n",
    "print(\"Number of null values before conversion:\")\n",
    "for column, count in null_counts_before_dict.items():\n",
    "    print(f\"{column}: {count}\")"
   ]
  },
  {
   "cell_type": "code",
   "execution_count": null,
   "id": "092f06f0",
   "metadata": {},
   "outputs": [],
   "source": [
    "# Count the number of null values after conversion\n",
    "null_counts_after = data.select([F.col(c).isNull().cast(\"int\").alias(c) for c in data.columns]).agg(*[F.sum(c).alias(c) for c in data.columns]).collect()\n",
    "\n",
    "# Convert the count to a dictionary for easier access\n",
    "null_counts_after_dict = null_counts_after[0].asDict()\n",
    "\n",
    "# Print the count of null values after conversion\n",
    "print(\"\\nNumber of null values after conversion:\")\n",
    "for column, count in null_counts_after_dict.items():\n",
    "    print(f\"{column}: {count}\")"
   ]
  },
  {
   "cell_type": "code",
   "execution_count": null,
   "id": "75768df8",
   "metadata": {},
   "outputs": [],
   "source": [
    "failures = {}\n",
    "\n",
    "test_df = raw_df\n",
    "\n",
    "for col in weather_int:\n",
    "\n",
    "    before_count = test_df.select(F.count(F.when(F.isnull(col), col)).alias(col)).collect() \n",
    "\n",
    "    test_df = test_df.withColumn(f'test_type_{col}', F.col(col).cast(IntegerType()))\n",
    "\n",
    "    after_count = test_df.select(F.count(F.when(F.isnull(f'test_type_{col}'), f'test_type_{col}')).alias(f'test_type_{col}')).collect() \n",
    "\n",
    "    failures[col] = after_count[0][0] - before_count[0][0] \n",
    "\n",
    "for col in weather_float:\n",
    "\n",
    "    before_count = test_df.select(F.count(F.when(F.isnull(col), col)).alias(col)).collect() \n",
    "\n",
    "    test_df = test_df.withColumn(f'test_type_{col}', F.col(col).cast(FloatType())) \n",
    "\n",
    "\n",
    "    after_count = test_df.select(F.count(F.when(F.isnull(f'test_type_{col}'), f'test_type_{col}')).alias(f'test_type_{col}')).collect() \n",
    "\n",
    "    failures[col] = after_count[0][0] - before_count[0][0]\n",
    "    \n",
    "    \n",
    "failures"
   ]
  }
 ],
 "metadata": {
  "kernelspec": {
   "display_name": "Python 3 (ipykernel)",
   "language": "python",
   "name": "python3"
  },
  "language_info": {
   "codemirror_mode": {
    "name": "ipython",
    "version": 3
   },
   "file_extension": ".py",
   "mimetype": "text/x-python",
   "name": "python",
   "nbconvert_exporter": "python",
   "pygments_lexer": "ipython3",
   "version": "3.11.4"
  }
 },
 "nbformat": 4,
 "nbformat_minor": 5
}
