{
 "cells": [
  {
   "cell_type": "markdown",
   "metadata": {},
   "source": [
    "# Processing Big Data - Data Ingestion\n",
    "© Explore Data Science Academy\n",
    "\n",
    "## Honour Code\n",
    "I **PRECIOUS**, **AROVO**, confirm - by submitting this document - that the solutions in this notebook are a result of my own work and that I abide by the [EDSA honour code](https://drive.google.com/file/d/1QDCjGZJ8-FmJE3bZdIQNwnJyQKPhHZBn/view?usp=sharing).\n",
    "    Non-compliance with the honour code constitutes a material breach of contract.\n",
    "\n",
    "\n",
    "\n",
    "## Context \n",
    "\n",
    "To work constructively with any dataset, one needs to create an ingestion profile to make sure that the data at the source can be readily consumed. For this section of the predict, as the Data Engineer in the team, you will be required to design and implement the ingestion process. For the purposes of the project the AWS cloud storage service, namely, the S3 bucket service will act as your data source. All the data required can be found [here](https://processing-big-data-predict-stocks-data.s3.eu-west-1.amazonaws.com/stocks.zip).\n",
    "\n",
    "<div align=\"center\" style=\"width: 600px; font-size: 80%; text-align: center; margin: 0 auto\">\n",
    "<img src=\"https://raw.githubusercontent.com/Explore-AI/Pictures/master/data_engineering/transform/predict/DataIngestion.jpg\"\n",
    "     alt=\"Data Ingestion\"\n",
    "     style=\"float: center; padding-bottom=0.5em\"\n",
    "     width=40%/>\n",
    "     <p><em>Figure 1. Data Ingestion</em></p>\n",
    "</div>\n",
    "\n",
    "Your manager, Gnissecorp Atadgib, knowing very well that you've recently completed your Data Engineering qualification, asks you to make use of Apache Spark for the ingestion as well as the rest of the project. His rationale being, that stock market data is generated every day and is quite time-sensitive and would require scalability when deploying to a production environment. \n",
    "\n",
    "## Dataset - US Nasdaq\n",
    "\n",
    "\n",
    "\n",
    "\n",
    "<div align=\"center\" style=\"width: 600px; font-size: 80%; text-align: center; margin: 0 auto\">\n",
    "<img src=\"https://raw.githubusercontent.com/Explore-AI/Pictures/master/data_engineering/transform/predict/Nasdaq.png\"\n",
    "     alt=\"Nasdaq\"\n",
    "     style=\"float: center; padding-bottom=0.5em\"\n",
    "     width=50%/>\n",
    "     <p><em>Figure 2. Nasdaq</em></p>\n",
    "</div>\n",
    "\n",
    "The data that you will be working with is a historical snapshot of market data taken from the Nasdaq electronic market. This dataset contains historical daily prices for all tickers currently trading on Nasdaq. The up-to-date list can be found on their [website](https://www.nasdaq.com/)\n",
    "\n",
    "\n",
    "The provided data contains price data dating back from 02 January 1962 up until 01 April 2020. The data found in the S3 bucket has been stored in the following structure:\n",
    "\n",
    "```\n",
    "     stocks/<Year>/<Month>/<Day>/stocks.csv\n",
    "```\n",
    "Each CSV file for every trading day contains the following details:\n",
    "- **Date** - specifies trading date\n",
    "- **Open** - opening price\n",
    "- **High** - maximum price during the day\n",
    "- **Low** - minimum price during the day\n",
    "- **Close** - close price adjusted for splits\n",
    "- **Adj Close** - close price adjusted for both dividends and splits\n",
    "- **Volume** - the number of shares that changed hands during a given day"
   ]
  },
  {
   "cell_type": "markdown",
   "metadata": {},
   "source": [
    "## Basic initialisation\n",
    "To get you started, let's import some basic Python libraries as well as Spark modules and functions."
   ]
  },
  {
   "cell_type": "code",
   "execution_count": 1,
   "metadata": {},
   "outputs": [],
   "source": [
    "import pandas as pd\n",
    "import numpy as np\n",
    "import pyspark\n",
    "import matplotlib.pyplot as plt\n",
    "\n",
    "from pyspark import SparkContext\n",
    "from pyspark.sql import SparkSession\n",
    "from pyspark.sql import functions as F\n",
    "from pyspark.sql.types import StructField, StructType, IntegerType, FloatType, StringType, TimestampType"
   ]
  },
  {
   "cell_type": "markdown",
   "metadata": {},
   "source": [
    "Remember that we need a `SparkContext` and `SparkSession` to interface with Spark.\n",
    "We will mostly be using the `SparkContext` to interact with RDDs and the `SparkSession` to interface with Python objects.\n",
    "\n",
    "> ℹ️ **Instructions** ℹ️\n",
    ">\n",
    ">Initialise a new **Spark Context** and **Session** that you will use to interface with Spark."
   ]
  },
  {
   "cell_type": "code",
   "execution_count": 2,
   "metadata": {},
   "outputs": [],
   "source": [
    "import os\n",
    "import sys\n",
    "\n",
    "os.environ['PYSPARK_PYTHON'] = sys.executable\n",
    "\n",
    "os.environ['PYSPARK_DRIVER_PYTHON'] = sys.executable"
   ]
  },
  {
   "cell_type": "code",
   "execution_count": 3,
   "metadata": {},
   "outputs": [],
   "source": [
    "# Defining SparkContext and SparkSession\n",
    "\n",
    "sc = SparkContext.getOrCreate()\n",
    "spark = SparkSession(sc)"
   ]
  },
  {
   "cell_type": "markdown",
   "metadata": {},
   "source": [
    "## Investigate dataset schema\n",
    "At this point, it is enough to read in a single file to ascertain the data structure. You will be required to use the information obtained from the small subset to create a data schema. This data schema will be used when reading the entire dataset using Spark.\n",
    "\n",
    "> ℹ️ **Instructions** ℹ️\n",
    ">\n",
    ">Make use of Pandas to read in a single file and investigate the plausible data types to be used when creating a Spark data schema. \n",
    ">\n",
    ">*You may use as many coding cells as necessary.*"
   ]
  },
  {
   "cell_type": "code",
   "execution_count": 4,
   "metadata": {
    "scrolled": false
   },
   "outputs": [
    {
     "data": {
      "text/html": [
       "<div>\n",
       "<style scoped>\n",
       "    .dataframe tbody tr th:only-of-type {\n",
       "        vertical-align: middle;\n",
       "    }\n",
       "\n",
       "    .dataframe tbody tr th {\n",
       "        vertical-align: top;\n",
       "    }\n",
       "\n",
       "    .dataframe thead th {\n",
       "        text-align: right;\n",
       "    }\n",
       "</style>\n",
       "<table border=\"1\" class=\"dataframe\">\n",
       "  <thead>\n",
       "    <tr style=\"text-align: right;\">\n",
       "      <th></th>\n",
       "      <th>Date</th>\n",
       "      <th>Open</th>\n",
       "      <th>High</th>\n",
       "      <th>Low</th>\n",
       "      <th>Close</th>\n",
       "      <th>Adj Close</th>\n",
       "      <th>Volume</th>\n",
       "      <th>stock</th>\n",
       "    </tr>\n",
       "  </thead>\n",
       "  <tbody>\n",
       "    <tr>\n",
       "      <th>0</th>\n",
       "      <td>1962-01-02</td>\n",
       "      <td>6.532155</td>\n",
       "      <td>6.556185</td>\n",
       "      <td>6.532155</td>\n",
       "      <td>6.532155</td>\n",
       "      <td>1.536658</td>\n",
       "      <td>55900.0</td>\n",
       "      <td>AA</td>\n",
       "    </tr>\n",
       "    <tr>\n",
       "      <th>1</th>\n",
       "      <td>1962-01-02</td>\n",
       "      <td>6.125844</td>\n",
       "      <td>6.160982</td>\n",
       "      <td>6.125844</td>\n",
       "      <td>6.125844</td>\n",
       "      <td>1.414651</td>\n",
       "      <td>59700.0</td>\n",
       "      <td>ARNC</td>\n",
       "    </tr>\n",
       "    <tr>\n",
       "      <th>2</th>\n",
       "      <td>1962-01-02</td>\n",
       "      <td>0.837449</td>\n",
       "      <td>0.837449</td>\n",
       "      <td>0.823045</td>\n",
       "      <td>0.823045</td>\n",
       "      <td>0.145748</td>\n",
       "      <td>352200.0</td>\n",
       "      <td>BA</td>\n",
       "    </tr>\n",
       "    <tr>\n",
       "      <th>3</th>\n",
       "      <td>1962-01-02</td>\n",
       "      <td>1.604167</td>\n",
       "      <td>1.619792</td>\n",
       "      <td>1.588542</td>\n",
       "      <td>1.604167</td>\n",
       "      <td>0.136957</td>\n",
       "      <td>163200.0</td>\n",
       "      <td>CAT</td>\n",
       "    </tr>\n",
       "    <tr>\n",
       "      <th>4</th>\n",
       "      <td>1962-01-02</td>\n",
       "      <td>0.000000</td>\n",
       "      <td>3.296131</td>\n",
       "      <td>3.244048</td>\n",
       "      <td>3.296131</td>\n",
       "      <td>0.051993</td>\n",
       "      <td>105600.0</td>\n",
       "      <td>CVX</td>\n",
       "    </tr>\n",
       "  </tbody>\n",
       "</table>\n",
       "</div>"
      ],
      "text/plain": [
       "         Date      Open      High       Low     Close  Adj Close    Volume  \\\n",
       "0  1962-01-02  6.532155  6.556185  6.532155  6.532155   1.536658   55900.0   \n",
       "1  1962-01-02  6.125844  6.160982  6.125844  6.125844   1.414651   59700.0   \n",
       "2  1962-01-02  0.837449  0.837449  0.823045  0.823045   0.145748  352200.0   \n",
       "3  1962-01-02  1.604167  1.619792  1.588542  1.604167   0.136957  163200.0   \n",
       "4  1962-01-02  0.000000  3.296131  3.244048  3.296131   0.051993  105600.0   \n",
       "\n",
       "  stock  \n",
       "0    AA  \n",
       "1  ARNC  \n",
       "2    BA  \n",
       "3   CAT  \n",
       "4   CVX  "
      ]
     },
     "execution_count": 4,
     "metadata": {},
     "output_type": "execute_result"
    }
   ],
   "source": [
    "single_file_path = r\"C:\\Users\\USER\\Desktop\\ExploreDE\\processing-big-data-predict\\stocks\\1962\\01\\02\\stocks.csv\"\n",
    "df = pd.read_csv(single_file_path)\n",
    "df.head()"
   ]
  },
  {
   "cell_type": "code",
   "execution_count": 5,
   "metadata": {},
   "outputs": [
    {
     "data": {
      "text/plain": [
       "(20, 8)"
      ]
     },
     "execution_count": 5,
     "metadata": {},
     "output_type": "execute_result"
    }
   ],
   "source": [
    "df.shape"
   ]
  },
  {
   "cell_type": "code",
   "execution_count": 6,
   "metadata": {},
   "outputs": [
    {
     "name": "stdout",
     "output_type": "stream",
     "text": [
      "<class 'pandas.core.frame.DataFrame'>\n",
      "RangeIndex: 20 entries, 0 to 19\n",
      "Data columns (total 8 columns):\n",
      " #   Column     Non-Null Count  Dtype  \n",
      "---  ------     --------------  -----  \n",
      " 0   Date       20 non-null     object \n",
      " 1   Open       20 non-null     float64\n",
      " 2   High       20 non-null     float64\n",
      " 3   Low        20 non-null     float64\n",
      " 4   Close      20 non-null     float64\n",
      " 5   Adj Close  20 non-null     float64\n",
      " 6   Volume     20 non-null     float64\n",
      " 7   stock      20 non-null     object \n",
      "dtypes: float64(6), object(2)\n",
      "memory usage: 1.4+ KB\n"
     ]
    }
   ],
   "source": [
    "df.info()"
   ]
  },
  {
   "cell_type": "markdown",
   "metadata": {},
   "source": [
    "## Read CSV files\n",
    "\n",
    "When working with big data, it is often not tenable to keep processing an entire data batch when you are in the process of development - this can be quite time-consuming. If the data is uniform, it is sufficient to work with a smaller subset to create basic functionality. Your manager has identified the year **1962** to perform the initial testing for data ingestion. \n",
    "\n",
    "> ℹ️ **Instructions** ℹ️\n",
    ">\n",
    ">Read in the data for **1962** using a data schema that purely uses string data types. You will be required to convert to the appropriate data types at a later stage.\n",
    ">\n",
    ">*You may use as many coding cells as necessary.*"
   ]
  },
  {
   "cell_type": "code",
   "execution_count": 7,
   "metadata": {},
   "outputs": [],
   "source": [
    "# Stock data path\n",
    "path = r\"C:\\Users\\USER\\Desktop\\ExploreDE\\processing-big-data-predict\\stocks\"\n",
    "\n",
    "# Year to read the data (.csv files) from.\n",
    "year = '1962'\n",
    "\n",
    "# Empty list to store the paths of the CSV list\n",
    "csv_paths = []\n",
    "\n",
    "# Looping through the months and days of the year 1962\n",
    "for month in range(1, 13):\n",
    "    for day in range(1, 32):\n",
    "        csv_path = os.path.join(path, year, str(month).zfill(2), str(day).zfill(2), \"stocks.csv\")\n",
    "        if os.path.exists(csv_path):\n",
    "            csv_paths.append(csv_path)\n",
    "\n",
    "raw_data =spark.read.csv(csv_paths, header=True)"
   ]
  },
  {
   "cell_type": "code",
   "execution_count": 8,
   "metadata": {},
   "outputs": [
    {
     "name": "stdout",
     "output_type": "stream",
     "text": [
      "+----------+------------------+------------------+------------------+------------------+------------------+--------+-----+\n",
      "|      Date|              Open|              High|               Low|             Close|         Adj Close|  Volume|stock|\n",
      "+----------+------------------+------------------+------------------+------------------+------------------+--------+-----+\n",
      "|1962-02-19| 5.839290142059326| 5.907374858856201| 5.839290142059326| 5.863319873809815|1.3863292932510376| 29900.0|   AA|\n",
      "|1962-02-19| 5.481634140014648|5.5284857749938965| 5.481634140014648| 5.516772747039795|1.2804527282714844| 32000.0| ARNC|\n",
      "|1962-02-19|0.9074074029922484|0.9156378507614136|0.8991769552230835| 0.903292179107666|0.1614154428243637|619400.0|   BA|\n",
      "|1962-02-19|1.6770833730697632|1.6927083730697632|1.6614583730697632|1.6770833730697632|0.1440587043762207|170400.0|  CAT|\n",
      "|1962-02-19|               0.0|3.5788691043853764|              20.0| 3.549107074737549|0.0565012246370315|273600.0|  CVX|\n",
      "+----------+------------------+------------------+------------------+------------------+------------------+--------+-----+\n",
      "only showing top 5 rows\n",
      "\n"
     ]
    }
   ],
   "source": [
    "raw_data.show(5)"
   ]
  },
  {
   "cell_type": "code",
   "execution_count": 9,
   "metadata": {},
   "outputs": [
    {
     "name": "stdout",
     "output_type": "stream",
     "text": [
      "root\n",
      " |-- Date: string (nullable = true)\n",
      " |-- Open: string (nullable = true)\n",
      " |-- High: string (nullable = true)\n",
      " |-- Low: string (nullable = true)\n",
      " |-- Close: string (nullable = true)\n",
      " |-- Adj Close: string (nullable = true)\n",
      " |-- Volume: string (nullable = true)\n",
      " |-- stock: string (nullable = true)\n",
      "\n"
     ]
    }
   ],
   "source": [
    "raw_data.printSchema()"
   ]
  },
  {
   "cell_type": "code",
   "execution_count": 10,
   "metadata": {},
   "outputs": [
    {
     "name": "stdout",
     "output_type": "stream",
     "text": [
      "+-------+----------+------------------+------------------+------------------------+--------------------+-----------------------+-----------------+-----+\n",
      "|summary|Date      |Open              |High              |Low                     |Close               |Adj Close              |Volume           |stock|\n",
      "+-------+----------+------------------+------------------+------------------------+--------------------+-----------------------+-----------------+-----+\n",
      "|count  |5106      |5106              |5106              |5084                    |5106                |5106                   |5085             |5106 |\n",
      "|mean   |NULL      |1.0904873526012002|16.757624946793637|15.728619917198033      |16.64199179044607   |5.986642513535306      |540930.2458210423|NULL |\n",
      "|stddev |NULL      |2.3644535253049095|53.91407348193544 |51.322922898144         |53.546771399008016  |24.64637054715319      |864596.2440525509|NULL |\n",
      "|min    |1962-01-02|0.0               |0.0               |-0.040435523172560696F44|0.053624976426362984|-0.04100876298375362F22|0.0              |AA   |\n",
      "|max    |1962-12-31|7.7133331298828125|9.984375          |9.96875                 |9.984375            |7.029978519312864e-07  |998400.0         |XOM  |\n",
      "+-------+----------+------------------+------------------+------------------------+--------------------+-----------------------+-----------------+-----+\n",
      "\n"
     ]
    }
   ],
   "source": [
    "raw_data.describe().show(10, False)"
   ]
  },
  {
   "cell_type": "markdown",
   "metadata": {},
   "source": [
    "## Update column names\n",
    "To make the data easier to work with, you will need to make a few changes:\n",
    "1. Column headers should all be in lowercase; and\n",
    "2. Whitespaces should be replaced with underscores.\n",
    "\n",
    "\n",
    "> ℹ️ **Instructions** ℹ️\n",
    ">\n",
    ">Make sure that the column headers are all in lowercase and that any whitespaces are replaced with underscores.\n",
    ">\n",
    ">*You may use as many coding cells as necessary.*"
   ]
  },
  {
   "cell_type": "code",
   "execution_count": 11,
   "metadata": {},
   "outputs": [
    {
     "data": {
      "text/plain": [
       "['Date', 'Open', 'High', 'Low', 'Close', 'Adj Close', 'Volume', 'stock']"
      ]
     },
     "execution_count": 11,
     "metadata": {},
     "output_type": "execute_result"
    }
   ],
   "source": [
    "raw_data.columns"
   ]
  },
  {
   "cell_type": "code",
   "execution_count": 12,
   "metadata": {},
   "outputs": [],
   "source": [
    "# Looping over each column in the dataframe to convert all column header to lowercase\n",
    "# and replace white space with underscore.\n",
    "for column in raw_data.columns:\n",
    "    raw_data = raw_data.withColumnRenamed(column, '_'.join(column.split()).lower())\n",
    "    "
   ]
  },
  {
   "cell_type": "code",
   "execution_count": 13,
   "metadata": {},
   "outputs": [
    {
     "data": {
      "text/plain": [
       "['date', 'open', 'high', 'low', 'close', 'adj_close', 'volume', 'stock']"
      ]
     },
     "execution_count": 13,
     "metadata": {},
     "output_type": "execute_result"
    }
   ],
   "source": [
    "# Checking change\n",
    "raw_data.columns"
   ]
  },
  {
   "cell_type": "code",
   "execution_count": 14,
   "metadata": {},
   "outputs": [
    {
     "name": "stdout",
     "output_type": "stream",
     "text": [
      "+----------+------------------+------------------+------------------+------------------+------------------+--------+-----+\n",
      "|      date|              open|              high|               low|             close|         adj_close|  volume|stock|\n",
      "+----------+------------------+------------------+------------------+------------------+------------------+--------+-----+\n",
      "|1962-02-19| 5.839290142059326| 5.907374858856201| 5.839290142059326| 5.863319873809815|1.3863292932510376| 29900.0|   AA|\n",
      "|1962-02-19| 5.481634140014648|5.5284857749938965| 5.481634140014648| 5.516772747039795|1.2804527282714844| 32000.0| ARNC|\n",
      "|1962-02-19|0.9074074029922484|0.9156378507614136|0.8991769552230835| 0.903292179107666|0.1614154428243637|619400.0|   BA|\n",
      "|1962-02-19|1.6770833730697632|1.6927083730697632|1.6614583730697632|1.6770833730697632|0.1440587043762207|170400.0|  CAT|\n",
      "|1962-02-19|               0.0|3.5788691043853764|              20.0| 3.549107074737549|0.0565012246370315|273600.0|  CVX|\n",
      "+----------+------------------+------------------+------------------+------------------+------------------+--------+-----+\n",
      "only showing top 5 rows\n",
      "\n"
     ]
    }
   ],
   "source": [
    "raw_data.show(5)"
   ]
  },
  {
   "cell_type": "markdown",
   "metadata": {},
   "source": [
    "## Null Values\n",
    "Null values often represent missing pieces of data. It is always good to know where your null values lie - so you can quickly identify and remedy any issues stemming from these.\n",
    "\n",
    "> ℹ️ **Instructions** ℹ️\n",
    ">\n",
    ">Write code to count the number of null values found in each column.\n",
    ">\n",
    ">*You may use as many coding cells as necessary.*"
   ]
  },
  {
   "cell_type": "code",
   "execution_count": 15,
   "metadata": {},
   "outputs": [],
   "source": [
    "# Creating dictionary to hold null values\n",
    "null_counts = {}\n",
    "\n",
    "# Looping through the raw data columns\n",
    "for col in raw_data.columns:\n",
    "    null_count = raw_data.select(F.count(F.when(F.isnull(col), col)).alias(col)).collect()\n",
    "    null_counts[col] = null_count[0][0]"
   ]
  },
  {
   "cell_type": "code",
   "execution_count": 16,
   "metadata": {},
   "outputs": [
    {
     "data": {
      "text/plain": [
       "{'date': 0,\n",
       " 'open': 0,\n",
       " 'high': 0,\n",
       " 'low': 22,\n",
       " 'close': 0,\n",
       " 'adj_close': 0,\n",
       " 'volume': 21,\n",
       " 'stock': 0}"
      ]
     },
     "execution_count": 16,
     "metadata": {},
     "output_type": "execute_result"
    }
   ],
   "source": [
    "null_counts"
   ]
  },
  {
   "cell_type": "markdown",
   "metadata": {},
   "source": [
    "## Data type conversion - The final data schema\n",
    "\n",
    "Now that we have identified the number of missing values in the data set, we'll move on to convert our data schema to the required data types. \n",
    "\n",
    "> ℹ️ **Instructions** ℹ️\n",
    ">\n",
    ">Use typecasting to convert the string data types in your current data schema to more appropriate data types.\n",
    ">\n",
    ">*You may use as many coding cells as necessary.*"
   ]
  },
  {
   "cell_type": "code",
   "execution_count": 17,
   "metadata": {},
   "outputs": [
    {
     "name": "stdout",
     "output_type": "stream",
     "text": [
      "root\n",
      " |-- date: string (nullable = true)\n",
      " |-- open: string (nullable = true)\n",
      " |-- high: string (nullable = true)\n",
      " |-- low: string (nullable = true)\n",
      " |-- close: string (nullable = true)\n",
      " |-- adj_close: string (nullable = true)\n",
      " |-- volume: string (nullable = true)\n",
      " |-- stock: string (nullable = true)\n",
      "\n"
     ]
    }
   ],
   "source": [
    "raw_data.printSchema()"
   ]
  },
  {
   "cell_type": "code",
   "execution_count": 18,
   "metadata": {},
   "outputs": [],
   "source": [
    "typed_data = raw_data"
   ]
  },
  {
   "cell_type": "code",
   "execution_count": 19,
   "metadata": {},
   "outputs": [],
   "source": [
    "# Typecasting to convert the string datatypes in data to their appropriate datatype\n",
    "\n",
    "schema = StructType([\n",
    "    StructField('date', TimestampType(), True),\n",
    "    StructField('open', FloatType(), True),\n",
    "    StructField('high', FloatType(), True),\n",
    "    StructField('low', FloatType(), True),\n",
    "    StructField('close', FloatType(), True),\n",
    "    StructField('adj_close', FloatType(), True),\n",
    "    StructField('volume', FloatType(), True),\n",
    "    StructField('stock', StringType(), True),\n",
    "])"
   ]
  },
  {
   "cell_type": "code",
   "execution_count": 20,
   "metadata": {},
   "outputs": [],
   "source": [
    "typed_data = spark.read.csv(csv_paths, schema=schema, header=True)"
   ]
  },
  {
   "cell_type": "code",
   "execution_count": 21,
   "metadata": {},
   "outputs": [
    {
     "name": "stdout",
     "output_type": "stream",
     "text": [
      "root\n",
      " |-- date: timestamp (nullable = true)\n",
      " |-- open: float (nullable = true)\n",
      " |-- high: float (nullable = true)\n",
      " |-- low: float (nullable = true)\n",
      " |-- close: float (nullable = true)\n",
      " |-- adj_close: float (nullable = true)\n",
      " |-- volume: float (nullable = true)\n",
      " |-- stock: string (nullable = true)\n",
      "\n"
     ]
    }
   ],
   "source": [
    "typed_data.printSchema()"
   ]
  },
  {
   "cell_type": "code",
   "execution_count": 22,
   "metadata": {},
   "outputs": [
    {
     "name": "stdout",
     "output_type": "stream",
     "text": [
      "+-------------------+---------+----------+----------+---------+-----------+--------+-----+\n",
      "|               date|     open|      high|       low|    close|  adj_close|  volume|stock|\n",
      "+-------------------+---------+----------+----------+---------+-----------+--------+-----+\n",
      "|1962-02-19 00:00:00|  5.83929|  5.907375|   5.83929|  5.86332|  1.3863293| 29900.0|   AA|\n",
      "|1962-02-19 00:00:00| 5.481634|  5.528486|  5.481634|5.5167727|  1.2804527| 32000.0| ARNC|\n",
      "|1962-02-19 00:00:00|0.9074074|0.91563785|0.89917696|0.9032922| 0.16141544|619400.0|   BA|\n",
      "|1962-02-19 00:00:00|1.6770834| 1.6927084| 1.6614584|1.6770834|  0.1440587|170400.0|  CAT|\n",
      "|1962-02-19 00:00:00|      0.0|  3.578869|      20.0| 3.549107|0.056501225|273600.0|  CVX|\n",
      "+-------------------+---------+----------+----------+---------+-----------+--------+-----+\n",
      "only showing top 5 rows\n",
      "\n"
     ]
    }
   ],
   "source": [
    "typed_data.show(5)"
   ]
  },
  {
   "cell_type": "code",
   "execution_count": 23,
   "metadata": {},
   "outputs": [
    {
     "data": {
      "text/plain": [
       "42"
      ]
     },
     "execution_count": 23,
     "metadata": {},
     "output_type": "execute_result"
    }
   ],
   "source": [
    "typed_data.filter(F.col('low').isNull()).count()"
   ]
  },
  {
   "cell_type": "markdown",
   "metadata": {},
   "source": [
    "## Consolidate missing values\n",
    "We have to check if the data type conversion above was done correctly.\n",
    "If the casting was not successful, a null value gets inserted into the dataframe. You can thus check for successful conversion by determining if any null values are included in the resulting dataframe.\n",
    "\n",
    "\n",
    "> ℹ️ **Instructions** ℹ️\n",
    ">\n",
    ">Write code to compare the number of invalid entries (nulls) pre-conversion and post-conversion.\n",
    ">\n",
    ">*You may use as many coding cells as necessary.*"
   ]
  },
  {
   "cell_type": "code",
   "execution_count": 24,
   "metadata": {
    "scrolled": false
   },
   "outputs": [
    {
     "name": "stdout",
     "output_type": "stream",
     "text": [
      "root\n",
      " |-- date: string (nullable = true)\n",
      " |-- open: string (nullable = true)\n",
      " |-- high: string (nullable = true)\n",
      " |-- low: string (nullable = true)\n",
      " |-- close: string (nullable = true)\n",
      " |-- adj_close: string (nullable = true)\n",
      " |-- volume: string (nullable = true)\n",
      " |-- stock: string (nullable = true)\n",
      "\n"
     ]
    }
   ],
   "source": [
    "raw_data.printSchema()"
   ]
  },
  {
   "cell_type": "code",
   "execution_count": 25,
   "metadata": {},
   "outputs": [],
   "source": [
    "# List of float data types\n",
    "price_float = ['open', 'high', 'low', 'close', 'adj_close', 'volume']"
   ]
  },
  {
   "cell_type": "code",
   "execution_count": 26,
   "metadata": {},
   "outputs": [],
   "source": [
    "# Creating dictionary to hold null values\n",
    "cons_null_counts = {}\n",
    "\n",
    "# Copying a copy of the raw_data\n",
    "test_data = raw_data\n",
    "\n",
    "# Looping through the columns in the float data types\n",
    "for col in price_float:\n",
    "    # Counting the null values pre-casting\n",
    "    pre_null_count = test_data.select(F.count(F.when(F.isnull(col), col)).alias(col)).collect()\n",
    "    \n",
    "    # Cast to FloatType, creating a new column using the withColumn() method.\n",
    "    # We use the cast() method to cast and use the FloatType defined in Spark.    \n",
    "    test_data = test_data.withColumn(f'test_type_{col}', F.col(col).cast(FloatType()))\n",
    "    \n",
    "    # Counting the null values post-casting\n",
    "    post_null_count = test_data.select(F.count(F.when(F.isnull(f'test_type_{col}'), f'test_type_{col}')).alias(f'test_type_{col}')).collect()\n",
    "    \n",
    "    # Get the difference pre-casting and post-casting\n",
    "    cons_null_counts[col] = post_null_count[0][0] - pre_null_count[0][0]"
   ]
  },
  {
   "cell_type": "code",
   "execution_count": 27,
   "metadata": {},
   "outputs": [
    {
     "data": {
      "text/plain": [
       "{'open': 0, 'high': 0, 'low': 20, 'close': 0, 'adj_close': 21, 'volume': 0}"
      ]
     },
     "execution_count": 27,
     "metadata": {},
     "output_type": "execute_result"
    }
   ],
   "source": [
    "cons_null_counts"
   ]
  },
  {
   "cell_type": "code",
   "execution_count": 28,
   "metadata": {},
   "outputs": [
    {
     "name": "stdout",
     "output_type": "stream",
     "text": [
      "root\n",
      " |-- date: string (nullable = true)\n",
      " |-- open: string (nullable = true)\n",
      " |-- high: string (nullable = true)\n",
      " |-- low: string (nullable = true)\n",
      " |-- close: string (nullable = true)\n",
      " |-- adj_close: string (nullable = true)\n",
      " |-- volume: string (nullable = true)\n",
      " |-- stock: string (nullable = true)\n",
      " |-- test_type_open: float (nullable = true)\n",
      " |-- test_type_high: float (nullable = true)\n",
      " |-- test_type_low: float (nullable = true)\n",
      " |-- test_type_close: float (nullable = true)\n",
      " |-- test_type_adj_close: float (nullable = true)\n",
      " |-- test_type_volume: float (nullable = true)\n",
      "\n"
     ]
    }
   ],
   "source": [
    "test_data.printSchema()"
   ]
  },
  {
   "cell_type": "markdown",
   "metadata": {},
   "source": [
    "Here you should be able to see if any of your casts went wrong. \n",
    "Do not attempt to correct any missing values at this point. This will be dealt with in later sections of the predict."
   ]
  },
  {
   "cell_type": "markdown",
   "metadata": {},
   "source": [
    "## Generate parquet files\n",
    "When writing in Spark, we typically use parquet format. This format allows parallel writing using Spark's optimisation while maintaining other useful things like metadata.\n",
    "\n",
    "When writing, it is good to make sure that the data is sufficiently partitioned. \n",
    "\n",
    "Generally, data should be partitioned with one partition for every 200MB of data, but this also depends on the size of your cluster and executors. \n"
   ]
  },
  {
   "cell_type": "markdown",
   "metadata": {},
   "source": [
    "### Check the size of the dataframe before partitioning"
   ]
  },
  {
   "cell_type": "code",
   "execution_count": 29,
   "metadata": {},
   "outputs": [],
   "source": [
    "from pyspark.serializers import PickleSerializer, AutoBatchedSerializer"
   ]
  },
  {
   "cell_type": "code",
   "execution_count": 30,
   "metadata": {},
   "outputs": [
    {
     "name": "stdout",
     "output_type": "stream",
     "text": [
      "The dataframe is 36.130736 MB\n"
     ]
    }
   ],
   "source": [
    "rdd = typed_data.rdd._reserialize(AutoBatchedSerializer(PickleSerializer()))\n",
    "obj = rdd.ctx._jvm.org.apache.spark.mllib.api.python.SerDe.pythonToJava(rdd._jrdd, True)\n",
    "size = sc._jvm.org.apache.spark.util.SizeEstimator.estimate(obj)\n",
    "size_MB = size/1000000\n",
    "partitions = max(int(size_MB/200), 2)\n",
    "print(f'The dataframe is {size_MB} MB')"
   ]
  },
  {
   "cell_type": "markdown",
   "metadata": {},
   "source": [
    "### Write parquet files to the local directory\n",
    "> ℹ️ **Instructions** ℹ️\n",
    ">\n",
    "> Use the **coalesce** function and the number of **partitions** derived above to write parquet files to your local directory \n",
    ">\n",
    ">*You may use as many coding cells as necessary.*"
   ]
  },
  {
   "cell_type": "code",
   "execution_count": 32,
   "metadata": {},
   "outputs": [],
   "source": [
    "# Writing parquet files to local directory\n",
    "typed_data.write.parquet('./stock_data_1962')"
   ]
  },
  {
   "cell_type": "code",
   "execution_count": null,
   "metadata": {},
   "outputs": [],
   "source": []
  }
 ],
 "metadata": {
  "celltoolbar": "Raw Cell Format",
  "interpreter": {
   "hash": "24a0a2ddc4dffcb168e507551dd24967ddc40ea2df7a72a200a74e0ae6d88beb"
  },
  "kernelspec": {
   "display_name": "Python 3 (ipykernel)",
   "language": "python",
   "name": "python3"
  },
  "language_info": {
   "codemirror_mode": {
    "name": "ipython",
    "version": 3
   },
   "file_extension": ".py",
   "mimetype": "text/x-python",
   "name": "python",
   "nbconvert_exporter": "python",
   "pygments_lexer": "ipython3",
   "version": "3.11.4"
  }
 },
 "nbformat": 4,
 "nbformat_minor": 2
}
